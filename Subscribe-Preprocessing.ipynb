{
 "cells": [
  {
   "cell_type": "code",
   "execution_count": 1,
   "metadata": {},
   "outputs": [
    {
     "name": "stdout",
     "output_type": "stream",
     "text": [
      "Starting Spark application\n"
     ]
    },
    {
     "data": {
      "text/html": [
       "<table>\n",
       "<tr><th>ID</th><th>YARN Application ID</th><th>Kind</th><th>State</th><th>Spark UI</th><th>Driver log</th><th>Current session?</th></tr><tr><td>3</td><td>application_1578069659458_0004</td><td>pyspark</td><td>idle</td><td><a target=\"_blank\" href=\"http://ip-172-32-59-130.ec2.internal:20888/proxy/application_1578069659458_0004/\">Link</a></td><td><a target=\"_blank\" href=\"http://ip-172-32-48-113.ec2.internal:8042/node/containerlogs/container_1578069659458_0004_01_000001/livy\">Link</a></td><td>✔</td></tr></table>"
      ],
      "text/plain": [
       "<IPython.core.display.HTML object>"
      ]
     },
     "metadata": {},
     "output_type": "display_data"
    },
    {
     "data": {
      "application/vnd.jupyter.widget-view+json": {
       "model_id": "",
       "version_major": 2,
       "version_minor": 0
      },
      "text/plain": [
       "FloatProgress(value=0.0, bar_style='info', description='Progress:', layout=Layout(height='25px', width='50%'),…"
      ]
     },
     "metadata": {},
     "output_type": "display_data"
    },
    {
     "name": "stdout",
     "output_type": "stream",
     "text": [
      "SparkSession available as 'spark'.\n"
     ]
    },
    {
     "data": {
      "application/vnd.jupyter.widget-view+json": {
       "model_id": "",
       "version_major": 2,
       "version_minor": 0
      },
      "text/plain": [
       "FloatProgress(value=0.0, bar_style='info', description='Progress:', layout=Layout(height='25px', width='50%'),…"
      ]
     },
     "metadata": {},
     "output_type": "display_data"
    }
   ],
   "source": [
    "import sys\n",
    "from awsglue.transforms import *\n",
    "from awsglue.utils import getResolvedOptions\n",
    "from pyspark.context import SparkContext\n",
    "from awsglue.context import GlueContext\n",
    "from awsglue.job import Job\n",
    "\n",
    "glueContext = GlueContext(SparkContext.getOrCreate())"
   ]
  },
  {
   "cell_type": "code",
   "execution_count": 83,
   "metadata": {},
   "outputs": [
    {
     "data": {
      "application/vnd.jupyter.widget-view+json": {
       "model_id": "",
       "version_major": 2,
       "version_minor": 0
      },
      "text/plain": [
       "FloatProgress(value=0.0, bar_style='info', description='Progress:', layout=Layout(height='25px', width='50%'),…"
      ]
     },
     "metadata": {},
     "output_type": "display_data"
    }
   ],
   "source": [
    "glueContext._jsc.hadoopConfiguration().set(\"mapred.output.committer.class\", \"org.apache.hadoop.mapred.FileOutputCommitter\")"
   ]
  },
  {
   "cell_type": "markdown",
   "metadata": {},
   "source": [
    "### 1. Create Glue crawler\n",
    "\n",
    "Create a Glue crawler for the csv file on the bucket (https://www.kaggle.com/rouseguy/bankbalanced/data)"
   ]
  },
  {
   "cell_type": "code",
   "execution_count": 2,
   "metadata": {},
   "outputs": [
    {
     "data": {
      "application/vnd.jupyter.widget-view+json": {
       "model_id": "",
       "version_major": 2,
       "version_minor": 0
      },
      "text/plain": [
       "FloatProgress(value=0.0, bar_style='info', description='Progress:', layout=Layout(height='25px', width='50%'),…"
      ]
     },
     "metadata": {},
     "output_type": "display_data"
    },
    {
     "name": "stdout",
     "output_type": "stream",
     "text": [
      "Count:  11162\n",
      "root\n",
      "|-- age: long\n",
      "|-- job: string\n",
      "|-- marital: string\n",
      "|-- education: string\n",
      "|-- default: string\n",
      "|-- balance: long\n",
      "|-- housing: string\n",
      "|-- loan: string\n",
      "|-- contact: string\n",
      "|-- day: long\n",
      "|-- month: string\n",
      "|-- duration: long\n",
      "|-- campaign: long\n",
      "|-- pdays: long\n",
      "|-- previous: long\n",
      "|-- poutcome: string\n",
      "|-- deposit: string"
     ]
    }
   ],
   "source": [
    "data = glueContext.create_dynamic_frame.from_catalog(database=\"bank\", table_name=\"vtr\")\n",
    "print (\"Count: \", data.count())\n",
    "data.printSchema()"
   ]
  },
  {
   "cell_type": "markdown",
   "metadata": {},
   "source": [
    "### 2. Exploring the data\n"
   ]
  },
  {
   "cell_type": "code",
   "execution_count": 3,
   "metadata": {},
   "outputs": [
    {
     "data": {
      "application/vnd.jupyter.widget-view+json": {
       "model_id": "",
       "version_major": 2,
       "version_minor": 0
      },
      "text/plain": [
       "FloatProgress(value=0.0, bar_style='info', description='Progress:', layout=Layout(height='25px', width='50%'),…"
      ]
     },
     "metadata": {},
     "output_type": "display_data"
    }
   ],
   "source": [
    "df = data.toDF()"
   ]
  },
  {
   "cell_type": "code",
   "execution_count": 4,
   "metadata": {},
   "outputs": [
    {
     "data": {
      "application/vnd.jupyter.widget-view+json": {
       "model_id": "",
       "version_major": 2,
       "version_minor": 0
      },
      "text/plain": [
       "FloatProgress(value=0.0, bar_style='info', description='Progress:', layout=Layout(height='25px', width='50%'),…"
      ]
     },
     "metadata": {},
     "output_type": "display_data"
    },
    {
     "name": "stdout",
     "output_type": "stream",
     "text": [
      "                   0          1           2          3         4\n",
      "age               59         56          41         55        54\n",
      "job           admin.     admin.  technician   services    admin.\n",
      "marital      married    married     married    married   married\n",
      "education  secondary  secondary   secondary  secondary  tertiary\n",
      "default           no         no          no         no        no\n",
      "balance         2343         45        1270       2476       184\n",
      "housing          yes         no         yes        yes        no\n",
      "loan              no         no          no         no        no\n",
      "contact      unknown    unknown     unknown    unknown   unknown\n",
      "day                5          5           5          5         5\n",
      "month            may        may         may        may       may\n",
      "duration        1042       1467        1389        579       673\n",
      "campaign           1          1           1          1         2\n",
      "pdays             -1         -1          -1         -1        -1\n",
      "previous           0          0           0          0         0\n",
      "poutcome     unknown    unknown     unknown    unknown   unknown\n",
      "deposit          yes        yes         yes        yes       yes"
     ]
    }
   ],
   "source": [
    "import pandas as pd\n",
    "pd.DataFrame(df.take(5), columns=df.columns).transpose()\n"
   ]
  },
  {
   "cell_type": "code",
   "execution_count": 5,
   "metadata": {},
   "outputs": [
    {
     "data": {
      "application/vnd.jupyter.widget-view+json": {
       "model_id": "",
       "version_major": 2,
       "version_minor": 0
      },
      "text/plain": [
       "FloatProgress(value=0.0, bar_style='info', description='Progress:', layout=Layout(height='25px', width='50%'),…"
      ]
     },
     "metadata": {},
     "output_type": "display_data"
    },
    {
     "name": "stdout",
     "output_type": "stream",
     "text": [
      "              0                   1                   2      3      4\n",
      "summary   count                mean              stddev    min    max\n",
      "age       11162  41.231947679627304  11.913369192215518     18     95\n",
      "balance   11162  1528.5385235620856   3225.413325946149  -6847  81204\n",
      "day       11162  15.658036194230425   8.420739541006462      1     31\n",
      "duration  11162  371.99381831213043  347.12838571630687      2   3881\n",
      "campaign  11162   2.508421429851281  2.7220771816614824      1     63\n",
      "pdays     11162   51.33040673714388  108.75828197197717     -1    854\n",
      "previous  11162  0.8325568894463358   2.292007218670508      0     58"
     ]
    }
   ],
   "source": [
    "numeric_features = [t[0] for t in df.dtypes if t[1] == 'bigint']\n",
    "df.select(numeric_features).describe().toPandas().transpose()"
   ]
  },
  {
   "cell_type": "code",
   "execution_count": 6,
   "metadata": {},
   "outputs": [
    {
     "data": {
      "application/vnd.jupyter.widget-view+json": {
       "model_id": "",
       "version_major": 2,
       "version_minor": 0
      },
      "text/plain": [
       "FloatProgress(value=0.0, bar_style='info', description='Progress:', layout=Layout(height='25px', width='50%'),…"
      ]
     },
     "metadata": {},
     "output_type": "display_data"
    },
    {
     "name": "stdout",
     "output_type": "stream",
     "text": [
      "root\n",
      " |-- age: long (nullable = true)\n",
      " |-- job: string (nullable = true)\n",
      " |-- marital: string (nullable = true)\n",
      " |-- education: string (nullable = true)\n",
      " |-- default: string (nullable = true)\n",
      " |-- balance: long (nullable = true)\n",
      " |-- housing: string (nullable = true)\n",
      " |-- loan: string (nullable = true)\n",
      " |-- contact: string (nullable = true)\n",
      " |-- duration: long (nullable = true)\n",
      " |-- campaign: long (nullable = true)\n",
      " |-- pdays: long (nullable = true)\n",
      " |-- previous: long (nullable = true)\n",
      " |-- poutcome: string (nullable = true)\n",
      " |-- deposit: string (nullable = true)"
     ]
    }
   ],
   "source": [
    "df = df.select('age', 'job', 'marital', 'education', 'default', 'balance', 'housing', 'loan', 'contact', 'duration', 'campaign', 'pdays', 'previous', 'poutcome', 'deposit')\n",
    "cols = df.columns\n",
    "df.printSchema()"
   ]
  },
  {
   "cell_type": "code",
   "execution_count": 7,
   "metadata": {},
   "outputs": [
    {
     "data": {
      "application/vnd.jupyter.widget-view+json": {
       "model_id": "",
       "version_major": 2,
       "version_minor": 0
      },
      "text/plain": [
       "FloatProgress(value=0.0, bar_style='info', description='Progress:', layout=Layout(height='25px', width='50%'),…"
      ]
     },
     "metadata": {},
     "output_type": "display_data"
    }
   ],
   "source": [
    "from pyspark.ml.feature import OneHotEncoderEstimator, StringIndexer, VectorAssembler"
   ]
  },
  {
   "cell_type": "code",
   "execution_count": 8,
   "metadata": {},
   "outputs": [
    {
     "data": {
      "application/vnd.jupyter.widget-view+json": {
       "model_id": "",
       "version_major": 2,
       "version_minor": 0
      },
      "text/plain": [
       "FloatProgress(value=0.0, bar_style='info', description='Progress:', layout=Layout(height='25px', width='50%'),…"
      ]
     },
     "metadata": {},
     "output_type": "display_data"
    }
   ],
   "source": [
    "categoricalColumns = ['job', 'marital', 'education', 'default', 'housing', 'loan', 'contact', 'poutcome']\n",
    "stages = []"
   ]
  },
  {
   "cell_type": "code",
   "execution_count": 9,
   "metadata": {},
   "outputs": [
    {
     "data": {
      "application/vnd.jupyter.widget-view+json": {
       "model_id": "",
       "version_major": 2,
       "version_minor": 0
      },
      "text/plain": [
       "FloatProgress(value=0.0, bar_style='info', description='Progress:', layout=Layout(height='25px', width='50%'),…"
      ]
     },
     "metadata": {},
     "output_type": "display_data"
    }
   ],
   "source": [
    "for categoricalCol in categoricalColumns:\n",
    "    stringIndexer = StringIndexer(inputCol = categoricalCol, outputCol = categoricalCol + 'Index')\n",
    "    encoder = OneHotEncoderEstimator(inputCols=[stringIndexer.getOutputCol()], outputCols=[categoricalCol + \"classVec\"])\n",
    "    stages += [stringIndexer, encoder]"
   ]
  },
  {
   "cell_type": "code",
   "execution_count": 10,
   "metadata": {},
   "outputs": [
    {
     "data": {
      "application/vnd.jupyter.widget-view+json": {
       "model_id": "",
       "version_major": 2,
       "version_minor": 0
      },
      "text/plain": [
       "FloatProgress(value=0.0, bar_style='info', description='Progress:', layout=Layout(height='25px', width='50%'),…"
      ]
     },
     "metadata": {},
     "output_type": "display_data"
    }
   ],
   "source": [
    "label_stringIdx = StringIndexer(inputCol = 'deposit', outputCol = 'label')\n",
    "stages += [label_stringIdx]"
   ]
  },
  {
   "cell_type": "code",
   "execution_count": 11,
   "metadata": {},
   "outputs": [
    {
     "data": {
      "application/vnd.jupyter.widget-view+json": {
       "model_id": "",
       "version_major": 2,
       "version_minor": 0
      },
      "text/plain": [
       "FloatProgress(value=0.0, bar_style='info', description='Progress:', layout=Layout(height='25px', width='50%'),…"
      ]
     },
     "metadata": {},
     "output_type": "display_data"
    }
   ],
   "source": [
    "numericCols = ['age', 'balance', 'duration', 'campaign', 'pdays', 'previous']\n",
    "assemblerInputs = [c + \"classVec\" for c in categoricalColumns] + numericCols\n",
    "assembler = VectorAssembler(inputCols=assemblerInputs, outputCol=\"features\")\n",
    "stages += [assembler]"
   ]
  },
  {
   "cell_type": "code",
   "execution_count": 12,
   "metadata": {},
   "outputs": [
    {
     "data": {
      "application/vnd.jupyter.widget-view+json": {
       "model_id": "",
       "version_major": 2,
       "version_minor": 0
      },
      "text/plain": [
       "FloatProgress(value=0.0, bar_style='info', description='Progress:', layout=Layout(height='25px', width='50%'),…"
      ]
     },
     "metadata": {},
     "output_type": "display_data"
    },
    {
     "name": "stdout",
     "output_type": "stream",
     "text": [
      "root\n",
      " |-- label: double (nullable = false)\n",
      " |-- features: vector (nullable = true)\n",
      " |-- age: long (nullable = true)\n",
      " |-- job: string (nullable = true)\n",
      " |-- marital: string (nullable = true)\n",
      " |-- education: string (nullable = true)\n",
      " |-- default: string (nullable = true)\n",
      " |-- balance: long (nullable = true)\n",
      " |-- housing: string (nullable = true)\n",
      " |-- loan: string (nullable = true)\n",
      " |-- contact: string (nullable = true)\n",
      " |-- duration: long (nullable = true)\n",
      " |-- campaign: long (nullable = true)\n",
      " |-- pdays: long (nullable = true)\n",
      " |-- previous: long (nullable = true)\n",
      " |-- poutcome: string (nullable = true)\n",
      " |-- deposit: string (nullable = true)"
     ]
    }
   ],
   "source": [
    "from pyspark.ml import Pipeline\n",
    "pipeline = Pipeline(stages = stages)\n",
    "pipelineModel = pipeline.fit(df)\n",
    "df = pipelineModel.transform(df)\n",
    "selectedCols = ['label', 'features'] + cols\n",
    "df = df.select(selectedCols)\n",
    "df.printSchema()"
   ]
  },
  {
   "cell_type": "code",
   "execution_count": 13,
   "metadata": {},
   "outputs": [
    {
     "data": {
      "application/vnd.jupyter.widget-view+json": {
       "model_id": "",
       "version_major": 2,
       "version_minor": 0
      },
      "text/plain": [
       "FloatProgress(value=0.0, bar_style='info', description='Progress:', layout=Layout(height='25px', width='50%'),…"
      ]
     },
     "metadata": {},
     "output_type": "display_data"
    },
    {
     "name": "stdout",
     "output_type": "stream",
     "text": [
      "                                                           0                        ...                                                                          4\n",
      "label                                                      1                        ...                                                                          1\n",
      "features   (0.0, 0.0, 0.0, 1.0, 0.0, 0.0, 0.0, 0.0, 0.0, ...                        ...                          (0.0, 0.0, 0.0, 1.0, 0.0, 0.0, 0.0, 0.0, 0.0, ...\n",
      "age                                                       59                        ...                                                                         54\n",
      "job                                                   admin.                        ...                                                                     admin.\n",
      "marital                                              married                        ...                                                                    married\n",
      "education                                          secondary                        ...                                                                   tertiary\n",
      "default                                                   no                        ...                                                                         no\n",
      "balance                                                 2343                        ...                                                                        184\n",
      "housing                                                  yes                        ...                                                                         no\n",
      "loan                                                      no                        ...                                                                         no\n",
      "contact                                              unknown                        ...                                                                    unknown\n",
      "duration                                                1042                        ...                                                                        673\n",
      "campaign                                                   1                        ...                                                                          2\n",
      "pdays                                                     -1                        ...                                                                         -1\n",
      "previous                                                   0                        ...                                                                          0\n",
      "poutcome                                             unknown                        ...                                                                    unknown\n",
      "deposit                                                  yes                        ...                                                                        yes\n",
      "\n",
      "[17 rows x 5 columns]"
     ]
    }
   ],
   "source": [
    "pd.DataFrame(df.take(5), columns=df.columns).transpose()"
   ]
  },
  {
   "cell_type": "code",
   "execution_count": 14,
   "metadata": {},
   "outputs": [
    {
     "data": {
      "application/vnd.jupyter.widget-view+json": {
       "model_id": "",
       "version_major": 2,
       "version_minor": 0
      },
      "text/plain": [
       "FloatProgress(value=0.0, bar_style='info', description='Progress:', layout=Layout(height='25px', width='50%'),…"
      ]
     },
     "metadata": {},
     "output_type": "display_data"
    }
   ],
   "source": [
    "from pyspark.ml.linalg import Vectors\n",
    "def extract(row):\n",
    "    return (row.label, ) + tuple(row.features.toArray().tolist())\n"
   ]
  },
  {
   "cell_type": "code",
   "execution_count": 30,
   "metadata": {},
   "outputs": [
    {
     "data": {
      "application/vnd.jupyter.widget-view+json": {
       "model_id": "",
       "version_major": 2,
       "version_minor": 0
      },
      "text/plain": [
       "FloatProgress(value=0.0, bar_style='info', description='Progress:', layout=Layout(height='25px', width='50%'),…"
      ]
     },
     "metadata": {},
     "output_type": "display_data"
    }
   ],
   "source": [
    "df2 = df.rdd.map(extract).toDF([\"label\"])  # Vector values will be named _2, _3, ..."
   ]
  },
  {
   "cell_type": "code",
   "execution_count": 31,
   "metadata": {},
   "outputs": [
    {
     "data": {
      "application/vnd.jupyter.widget-view+json": {
       "model_id": "",
       "version_major": 2,
       "version_minor": 0
      },
      "text/plain": [
       "FloatProgress(value=0.0, bar_style='info', description='Progress:', layout=Layout(height='25px', width='50%'),…"
      ]
     },
     "metadata": {},
     "output_type": "display_data"
    },
    {
     "name": "stdout",
     "output_type": "stream",
     "text": [
      "+-----+-----+\n",
      "|label|count|\n",
      "+-----+-----+\n",
      "|  0.0| 5873|\n",
      "|  1.0| 5289|\n",
      "+-----+-----+"
     ]
    }
   ],
   "source": [
    "df2.groupBy('label').count().show()"
   ]
  },
  {
   "cell_type": "code",
   "execution_count": 32,
   "metadata": {},
   "outputs": [
    {
     "data": {
      "application/vnd.jupyter.widget-view+json": {
       "model_id": "",
       "version_major": 2,
       "version_minor": 0
      },
      "text/plain": [
       "FloatProgress(value=0.0, bar_style='info', description='Progress:', layout=Layout(height='25px', width='50%'),…"
      ]
     },
     "metadata": {},
     "output_type": "display_data"
    }
   ],
   "source": [
    "from pyspark.sql.types import IntegerType\n",
    "import pyspark.sql.functions as func\n",
    "df2 = df2.withColumn(\"label\", func.round(df2[\"label\"]).cast('integer'))\n"
   ]
  },
  {
   "cell_type": "code",
   "execution_count": 33,
   "metadata": {},
   "outputs": [
    {
     "data": {
      "application/vnd.jupyter.widget-view+json": {
       "model_id": "",
       "version_major": 2,
       "version_minor": 0
      },
      "text/plain": [
       "FloatProgress(value=0.0, bar_style='info', description='Progress:', layout=Layout(height='25px', width='50%'),…"
      ]
     },
     "metadata": {},
     "output_type": "display_data"
    },
    {
     "name": "stdout",
     "output_type": "stream",
     "text": [
      "            0       1       2       3   ...         6       7      8       9\n",
      "label     1.0     1.0     1.0     1.0   ...       1.0     1.0    1.0     1.0\n",
      "_2        0.0     0.0     0.0     0.0   ...       1.0     0.0    0.0     0.0\n",
      "_3        0.0     0.0     0.0     0.0   ...       0.0     0.0    0.0     0.0\n",
      "_4        0.0     0.0     1.0     0.0   ...       0.0     0.0    1.0     0.0\n",
      "_5        1.0     1.0     0.0     0.0   ...       0.0     0.0    0.0     0.0\n",
      "_6        0.0     0.0     0.0     1.0   ...       0.0     0.0    0.0     1.0\n",
      "_7        0.0     0.0     0.0     0.0   ...       0.0     1.0    0.0     0.0\n",
      "_8        0.0     0.0     0.0     0.0   ...       0.0     0.0    0.0     0.0\n",
      "_9        0.0     0.0     0.0     0.0   ...       0.0     0.0    0.0     0.0\n",
      "_10       0.0     0.0     0.0     0.0   ...       0.0     0.0    0.0     0.0\n",
      "_11       0.0     0.0     0.0     0.0   ...       0.0     0.0    0.0     0.0\n",
      "_12       0.0     0.0     0.0     0.0   ...       0.0     0.0    0.0     0.0\n",
      "_13       1.0     1.0     1.0     1.0   ...       1.0     0.0    1.0     0.0\n",
      "_14       0.0     0.0     0.0     0.0   ...       0.0     0.0    0.0     1.0\n",
      "_15       1.0     1.0     1.0     1.0   ...       0.0     1.0    1.0     1.0\n",
      "_16       0.0     0.0     0.0     0.0   ...       1.0     0.0    0.0     0.0\n",
      "_17       0.0     0.0     0.0     0.0   ...       0.0     0.0    0.0     0.0\n",
      "_18       1.0     1.0     1.0     1.0   ...       1.0     1.0    1.0     1.0\n",
      "_19       0.0     1.0     0.0     0.0   ...       0.0     0.0    0.0     0.0\n",
      "_20       1.0     1.0     1.0     1.0   ...       0.0     1.0    1.0     1.0\n",
      "_21       0.0     0.0     0.0     0.0   ...       0.0     0.0    0.0     0.0\n",
      "_22       1.0     1.0     1.0     1.0   ...       1.0     1.0    1.0     1.0\n",
      "_23       1.0     1.0     1.0     1.0   ...       1.0     1.0    1.0     1.0\n",
      "_24       0.0     0.0     0.0     0.0   ...       0.0     0.0    0.0     0.0\n",
      "_25       0.0     0.0     0.0     0.0   ...       0.0     0.0    0.0     0.0\n",
      "_26      59.0    56.0    41.0    55.0   ...      56.0    60.0   37.0    28.0\n",
      "_27    2343.0    45.0  1270.0  2476.0   ...     830.0   545.0    1.0  5090.0\n",
      "_28    1042.0  1467.0  1389.0   579.0   ...    1201.0  1030.0  608.0  1297.0\n",
      "_29       1.0     1.0     1.0     1.0   ...       1.0     1.0    1.0     3.0\n",
      "_30      -1.0    -1.0    -1.0    -1.0   ...      -1.0    -1.0   -1.0    -1.0\n",
      "_31       0.0     0.0     0.0     0.0   ...       0.0     0.0    0.0     0.0\n",
      "\n",
      "[31 rows x 10 columns]"
     ]
    }
   ],
   "source": [
    "pd.DataFrame(df2.take(10), columns=df2.columns).transpose()"
   ]
  },
  {
   "cell_type": "code",
   "execution_count": 34,
   "metadata": {},
   "outputs": [
    {
     "data": {
      "application/vnd.jupyter.widget-view+json": {
       "model_id": "",
       "version_major": 2,
       "version_minor": 0
      },
      "text/plain": [
       "FloatProgress(value=0.0, bar_style='info', description='Progress:', layout=Layout(height='25px', width='50%'),…"
      ]
     },
     "metadata": {},
     "output_type": "display_data"
    }
   ],
   "source": [
    "train, test = df2.randomSplit([0.7, 0.3], seed = 42)"
   ]
  },
  {
   "cell_type": "code",
   "execution_count": 43,
   "metadata": {},
   "outputs": [
    {
     "data": {
      "application/vnd.jupyter.widget-view+json": {
       "model_id": "",
       "version_major": 2,
       "version_minor": 0
      },
      "text/plain": [
       "FloatProgress(value=0.0, bar_style='info', description='Progress:', layout=Layout(height='25px', width='50%'),…"
      ]
     },
     "metadata": {},
     "output_type": "display_data"
    },
    {
     "name": "stdout",
     "output_type": "stream",
     "text": [
      "+-----+-----+\n",
      "|label|count|\n",
      "+-----+-----+\n",
      "|    1| 1607|\n",
      "|    0| 1728|\n",
      "+-----+-----+"
     ]
    }
   ],
   "source": [
    "test.groupBy('label').count().show()"
   ]
  },
  {
   "cell_type": "code",
   "execution_count": 36,
   "metadata": {},
   "outputs": [
    {
     "data": {
      "application/vnd.jupyter.widget-view+json": {
       "model_id": "",
       "version_major": 2,
       "version_minor": 0
      },
      "text/plain": [
       "FloatProgress(value=0.0, bar_style='info', description='Progress:', layout=Layout(height='25px', width='50%'),…"
      ]
     },
     "metadata": {},
     "output_type": "display_data"
    }
   ],
   "source": [
    "from awsglue.dynamicframe import DynamicFrame"
   ]
  },
  {
   "cell_type": "code",
   "execution_count": 37,
   "metadata": {},
   "outputs": [
    {
     "data": {
      "application/vnd.jupyter.widget-view+json": {
       "model_id": "",
       "version_major": 2,
       "version_minor": 0
      },
      "text/plain": [
       "FloatProgress(value=0.0, bar_style='info', description='Progress:', layout=Layout(height='25px', width='50%'),…"
      ]
     },
     "metadata": {},
     "output_type": "display_data"
    }
   ],
   "source": [
    "dynamicDataFrame = DynamicFrame.fromDF(\n",
    "                       train, glueContext , \n",
    "                       \"dynamicDataFrame\")"
   ]
  },
  {
   "cell_type": "code",
   "execution_count": 39,
   "metadata": {},
   "outputs": [
    {
     "data": {
      "application/vnd.jupyter.widget-view+json": {
       "model_id": "",
       "version_major": 2,
       "version_minor": 0
      },
      "text/plain": [
       "FloatProgress(value=0.0, bar_style='info', description='Progress:', layout=Layout(height='25px', width='50%'),…"
      ]
     },
     "metadata": {},
     "output_type": "display_data"
    },
    {
     "name": "stdout",
     "output_type": "stream",
     "text": [
      "<awsglue.dynamicframe.DynamicFrame object at 0x7fa1612be2e8>"
     ]
    }
   ],
   "source": [
    "glueContext.write_dynamic_frame.from_options(\n",
    "    frame = dynamicDataFrame,\n",
    "    connection_type = \"s3\", \n",
    "    connection_options = {\"path\": \"s3://lla-mggaska/train/\"}, format = \"csv\", format_options = {\"writeHeader\": False}, transformation_ctx = \"datasink2\")"
   ]
  },
  {
   "cell_type": "code",
   "execution_count": 40,
   "metadata": {},
   "outputs": [
    {
     "data": {
      "application/vnd.jupyter.widget-view+json": {
       "model_id": "",
       "version_major": 2,
       "version_minor": 0
      },
      "text/plain": [
       "FloatProgress(value=0.0, bar_style='info', description='Progress:', layout=Layout(height='25px', width='50%'),…"
      ]
     },
     "metadata": {},
     "output_type": "display_data"
    }
   ],
   "source": [
    "dynamicDataFrameTest = DynamicFrame.fromDF(\n",
    "                       test, glueContext , \n",
    "                       \"dynamicDataFrame\")"
   ]
  },
  {
   "cell_type": "code",
   "execution_count": 41,
   "metadata": {},
   "outputs": [
    {
     "data": {
      "application/vnd.jupyter.widget-view+json": {
       "model_id": "",
       "version_major": 2,
       "version_minor": 0
      },
      "text/plain": [
       "FloatProgress(value=0.0, bar_style='info', description='Progress:', layout=Layout(height='25px', width='50%'),…"
      ]
     },
     "metadata": {},
     "output_type": "display_data"
    },
    {
     "name": "stdout",
     "output_type": "stream",
     "text": [
      "<awsglue.dynamicframe.DynamicFrame object at 0x7fa1612c4da0>"
     ]
    }
   ],
   "source": [
    "glueContext.write_dynamic_frame.from_options(\n",
    "    frame = dynamicDataFrameTest,\n",
    "    connection_type = \"s3\", \n",
    "    connection_options = {\"path\": \"s3://lla-mggaska/test/\"}, format = \"csv\", format_options = {\"writeHeader\": False}, transformation_ctx = \"datasink2\")"
   ]
  }
 ],
 "metadata": {
  "kernelspec": {
   "display_name": "Sparkmagic (PySpark)",
   "language": "",
   "name": "pysparkkernel"
  },
  "language_info": {
   "codemirror_mode": {
    "name": "python",
    "version": 2
   },
   "mimetype": "text/x-python",
   "name": "pyspark",
   "pygments_lexer": "python2"
  }
 },
 "nbformat": 4,
 "nbformat_minor": 2
}
